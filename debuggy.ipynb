{
 "cells": [
  {
   "cell_type": "markdown",
   "id": "0f05385e-21df-4eaa-b58e-a9eb3f53a908",
   "metadata": {},
   "source": [
    "# Debug lesson"
   ]
  },
  {
   "cell_type": "code",
   "execution_count": 1,
   "id": "76a82146-6996-4576-b07f-f60ba81f3a8a",
   "metadata": {},
   "outputs": [],
   "source": [
    "import pandas as pd\n",
    "import pandas.testing as pdt\n",
    "from lcanalyzer import models\n"
   ]
  },
  {
   "cell_type": "code",
   "execution_count": 2,
   "id": "3d25ae4e-71f6-43bb-845d-321fa5001c23",
   "metadata": {},
   "outputs": [],
   "source": [
    "def calc_stats(lc, bands, mag_col):\n",
    "    # Calculate max, mean and min values for all bands of a light curve\n",
    "    stats = {}\n",
    "    for b in bands:\n",
    "        stat = {}\n",
    "        stat[\"max\"] = models.max_mag(lc[b], mag_col)\n",
    "        stat[\"mean\"] = models.mean_mag(lc[b], mag_col)\n",
    "        stat[\"min\"] = models.min_mag(lc[b], mag_col)\n",
    "        stats[b] = stat\n",
    "    return pd.DataFrame.from_records(stats)"
   ]
  },
  {
   "cell_type": "code",
   "execution_count": 3,
   "id": "9e15956c-5d50-431b-87ab-aa8d8bfdf4e4",
   "metadata": {},
   "outputs": [],
   "source": [
    "test_cols = list(\"abc\")\n",
    "test_dict = {}\n",
    "test_dict[\"df0\"] = pd.DataFrame(\n",
    "    data=[[8, 8, 0], \n",
    "          [0, 1, 1], \n",
    "          [2, 3, 1], \n",
    "          [7, 9, 7]], columns=test_cols\n",
    ")\n",
    "test_dict[\"df1\"] = pd.DataFrame(\n",
    "    data=[[3, 8, 2], \n",
    "          [3, 8, 0], \n",
    "          [3, 9, 8], \n",
    "          [8, 2, 5]], columns=test_cols\n",
    ")\n",
    "test_dict[\"df2\"] = pd.DataFrame(\n",
    "    data=[[8, 4, 3], \n",
    "          [7, 6, 3], \n",
    "          [4, 2, 9], \n",
    "          [6, 4, 0]], columns=test_cols\n",
    ")"
   ]
  },
  {
   "cell_type": "code",
   "execution_count": 4,
   "id": "11671150-e1ae-4969-8d4a-6350a33cea23",
   "metadata": {},
   "outputs": [],
   "source": [
    "test_output = pd.DataFrame(\n",
    "    data=[[9,9,6],[5.25,6.75,4.],[1,2,2]],\n",
    "    columns=['df0','df1','df2'],\n",
    "    index=['max','mean','min']\n",
    ")"
   ]
  },
  {
   "cell_type": "code",
   "execution_count": 7,
   "id": "7d3738bf-a1f5-417a-8e85-9d2c6d5dbc8e",
   "metadata": {},
   "outputs": [],
   "source": [
    "pdt.assert_frame_equal(\n",
    "    calc_stats(test_dict, test_dict.keys(), 'b'), \n",
    "    test_output, \n",
    "    check_exact=False, \n",
    "    atol=0.01\n",
    ")"
   ]
  },
  {
   "cell_type": "code",
   "execution_count": null,
   "id": "ccb9f97d-0142-4692-93b8-4b12c829f925",
   "metadata": {},
   "outputs": [],
   "source": []
  }
 ],
 "metadata": {
  "kernelspec": {
   "display_name": "base",
   "language": "python",
   "name": "base"
  },
  "language_info": {
   "codemirror_mode": {
    "name": "ipython",
    "version": 3
   },
   "file_extension": ".py",
   "mimetype": "text/x-python",
   "name": "python",
   "nbconvert_exporter": "python",
   "pygments_lexer": "ipython3",
   "version": "3.12.2"
  }
 },
 "nbformat": 4,
 "nbformat_minor": 5
}
